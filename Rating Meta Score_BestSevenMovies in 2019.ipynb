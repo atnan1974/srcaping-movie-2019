{
 "cells": [
  {
   "cell_type": "markdown",
   "metadata": {},
   "source": [
    "# Capstone Webscrapping using BeautifulSoup\n",
    "\n",
    "This notebook contains guidances & tasks on the data processing for the application\n",
    "\n",
    "(Please insert the background here )\n",
    "\n",
    "\n",
    "## Requesting the Data and Creating a BeautifulSoup\n",
    "\n",
    "Let's begin with requesting the web from the site with `get` method."
   ]
  },
  {
   "cell_type": "code",
   "execution_count": 1,
   "metadata": {
    "ExecuteTime": {
     "end_time": "2020-01-13T05:12:23.275508Z",
     "start_time": "2020-01-13T05:12:20.009898Z"
    }
   },
   "outputs": [],
   "source": [
    "import requests\n",
    "\n",
    "url_get = requests.get('https://www.imdb.com/search/title/?release_date=2019-01-01,2019-12-31?')"
   ]
  },
  {
   "cell_type": "markdown",
   "metadata": {},
   "source": [
    "To visualize what exactly you get from the `request.get`, we can use .content so ee what we exactly get, in here i slice it so it won't make our screen full of the html we get from the page. You can delete the slicing if you want to see what we fully get."
   ]
  },
  {
   "cell_type": "code",
   "execution_count": 2,
   "metadata": {
    "ExecuteTime": {
     "end_time": "2020-01-13T05:12:23.290648Z",
     "start_time": "2020-01-13T05:12:23.277650Z"
    }
   },
   "outputs": [
    {
     "data": {
      "text/plain": [
       "b'\\n<!DOCTYPE html>\\n<html\\n    xmlns:og=\"http://ogp.me/ns#\"\\n    xmlns:fb=\"http://www.facebook.com/2008/fbml\">\\n    <head>\\n         \\n        <meta charset=\"utf-8\">\\n        <meta http-equiv=\"X-UA-Compatible\" content=\"IE=edge\">\\n\\n    <meta name=\"apple-itunes-app\" content=\"app-id=342792525, app-argument=imdb:///?src=mdot\">\\n\\n\\n\\n        <script type=\"text/javascript\">var IMDbTimer={starttime: new Date().getTime(),pt:\\'java\\'};</script>\\n\\n<script>\\n    if (typeof uet == \\'function\\') {\\n      uet(\"bb\", \"LoadTitle\", {wb: 1});\\n    }\\n</script>\\n  <script>(function(t){ (t.events = t.events || {})[\"csm_head_pre_title\"] = new Date().getTime(); })(IMDbTimer);</script>\\n        <title>Released at least 2019-01-01\\n(Sorted by Popularity Ascending) - IMDb</title>\\n  <script>(function(t){ (t.events = '"
      ]
     },
     "execution_count": 2,
     "metadata": {},
     "output_type": "execute_result"
    }
   ],
   "source": [
    "url_get.content[1:777]"
   ]
  },
  {
   "cell_type": "markdown",
   "metadata": {},
   "source": [
    "As we can see we get a very unstructured and complex html, which actually contains the codes needed to show the webpages on your web browser. But we as human still confused what and where we can use that piece of code, so here where we use the beautifulsoup. Beautiful soup class will result a beautifulsoup object. Beautiful Soup transforms a complex HTML document into a complex tree of Python objects. \n",
    "\n",
    "Let's make Beautiful soup object and feel free to explore the object here."
   ]
  },
  {
   "cell_type": "code",
   "execution_count": 3,
   "metadata": {
    "ExecuteTime": {
     "end_time": "2020-01-13T05:12:23.808122Z",
     "start_time": "2020-01-13T05:12:23.292610Z"
    }
   },
   "outputs": [
    {
     "name": "stdout",
     "output_type": "stream",
     "text": [
      "<class 'bs4.BeautifulSoup'>\n"
     ]
    }
   ],
   "source": [
    "from bs4 import BeautifulSoup \n",
    "\n",
    "soup = BeautifulSoup(url_get.content,\"html.parser\")\n",
    "print(type(soup))"
   ]
  },
  {
   "cell_type": "markdown",
   "metadata": {},
   "source": [
    "## Finding the right key to scrap the data & Extracting the right information"
   ]
  },
  {
   "cell_type": "markdown",
   "metadata": {},
   "source": [
    "Find the key and put the key into the `.find()` Put all the exploring the right key at this cell. (please change this markdown with your explanation)"
   ]
  },
  {
   "cell_type": "code",
   "execution_count": 20,
   "metadata": {
    "ExecuteTime": {
     "end_time": "2020-01-13T05:12:23.878904Z",
     "start_time": "2020-01-13T05:12:23.854974Z"
    }
   },
   "outputs": [],
   "source": [
    "sourceData = soup.find(\"div\",attrs={\"class\":\"lister-list\"})\n"
   ]
  },
  {
   "cell_type": "code",
   "execution_count": 19,
   "metadata": {},
   "outputs": [],
   "source": [
    "table_list = sourceData.find_all(\"div\" ,attrs={\"class\":\"lister-item mode-advanced\"})\n"
   ]
  },
  {
   "cell_type": "markdown",
   "metadata": {},
   "source": [
    "Do the scrapping process here (please change this markdown with your explanation)\n",
    "\n",
    "- 1 Cari Title terlebih dahulu, jika ketemu masukan ke tempat penampungan yang disediakan sebelumnya.\n",
    "- 2 Kemudian cari rating, jika rating tidak ditemukan maka set 0.\n",
    "- 3 Kemudian cari metacore, perlakuanya sama dengan rating, jika tidak ditemukan maka set 0.\n",
    "- 4 Terakhir cari votes, bersihkan datanya terlebih dahulu agar memunculkan nilai yang di inginkan"
   ]
  },
  {
   "cell_type": "code",
   "execution_count": 32,
   "metadata": {
    "ExecuteTime": {
     "end_time": "2020-01-13T05:12:24.008256Z",
     "start_time": "2020-01-13T05:12:23.980358Z"
    }
   },
   "outputs": [
    {
     "data": {
      "text/plain": [
       "[('WandaVision', '8.2', 0, '96.538'),\n",
       " ('I Care a Lot', '6.2', '66', '56.873'),\n",
       " ('Behind Her Eyes', '7.2', 0, '20.967'),\n",
       " ('Mortal Kombat', 0, 0, 0),\n",
       " ('Superman and Lois', '8.1', 0, '5.614'),\n",
       " ('Nomadland', '7.6', '94', '28.935'),\n",
       " ('Army of the Dead', 0, 0, 0),\n",
       " ('Tribes of Europa', '6.8', 0, '6.142'),\n",
       " ('Bridgerton', '7.3', 0, '66.127'),\n",
       " ('Tell Me Your Secrets', '7.5', 0, '2.580'),\n",
       " ('Ginny & Georgia', '7.1', 0, '15.744'),\n",
       " ('Tom and Jerry', '5.3', 0, '10.882'),\n",
       " ('Firefly Lane', '7.5', 0, '10.810'),\n",
       " (\"Zack Snyder's Justice League\", 0, 0, 0),\n",
       " ('Monster Hunter', '5.3', 0, '22.566'),\n",
       " ('Judas and the Black Messiah', '7.7', '86', '19.158'),\n",
       " ('The Little Things', '6.3', 0, '43.839'),\n",
       " ('The Falcon and the Winter Soldier', 0, 0, 0),\n",
       " ('The Mandalorian', '8.8', 0, '297.227'),\n",
       " (\"It's a Sin\", '8.9', 0, '15.096'),\n",
       " ('For All Mankind', '7.7', 0, '13.959'),\n",
       " ('Drishyam 2', '8.8', 0, '19.371'),\n",
       " ('Your Honor', '7.8', 0, '22.008'),\n",
       " ('Cruella', 0, 0, 0),\n",
       " (\"The Queen's Gambit\", '8.6', 0, '273.208'),\n",
       " ('Spider-Man: No Way Home', 0, 0, 0),\n",
       " ('Resident Alien', '8.4', 0, '8.538'),\n",
       " ('SAS: Red Notice', 0, 0, 0),\n",
       " ('News of the World', '6.8', '73', '43.685'),\n",
       " ('Snowpiercer', '6.8', 0, '29.630'),\n",
       " ('Wrong Turn', '5.4', 0, '10.019'),\n",
       " ('The Dig', '7.1', '73', '42.670'),\n",
       " ('The Crew', '6.6', 0, '2.992'),\n",
       " ('Big Sky', '6.6', 0, '5.470'),\n",
       " ('Promising Young Woman', '7.5', '72', '41.900'),\n",
       " ('Flora & Ulysses', '6.4', '62', '2.935'),\n",
       " (\"Willy's Wonderland\", '5.6', 0, '7.300'),\n",
       " ('Tenet', '7.5', '69', '306.721'),\n",
       " ('Clarice', '6.4', 0, '2.996'),\n",
       " ('The Mauritanian', '7.3', 0, '4.283'),\n",
       " ('Greenland', '6.4', '64', '67.591'),\n",
       " ('The Boys', '8.7', 0, '251.820'),\n",
       " ('The Equalizer', '4.5', 0, '4.871'),\n",
       " ('Barb and Star Go to Vista Del Mar', '6.6', '64', '4.068'),\n",
       " ('The Suicide Squad', 0, 0, 0),\n",
       " ('Bloodlands', '6.9', 0, '376'),\n",
       " ('Wonder Woman 1984', '5.4', 0, '166.329'),\n",
       " ('Luca', 0, 0, 0),\n",
       " ('Avengers: Endgame', '8.4', '78', '827.952'),\n",
       " ('Godzilla vs. Kong', 0, 0, 0)]"
      ]
     },
     "execution_count": 32,
     "metadata": {},
     "output_type": "execute_result"
    }
   ],
   "source": [
    "temp = [] #initiating a tuple\n",
    "\n",
    "for i in range(0, len(table_list)):                                      \n",
    "    condrat1 = len(sourceData.find_all(\"div\",attrs={\"class\":\"ratings-bar\"}))\n",
    "    condrat2 = len(sourceData.find_all(\"div\",attrs={\"class\":\"lister-item-content\"})[i])\n",
    "    title = sourceData.find_all(\"h3\",attrs={\"class\":\"lister-item-header\"})[i]\n",
    "    rating = sourceData.find_all(\"div\",attrs={\"class\":\"lister-item-content\"})[i]\n",
    "    if condrat2 <= 9:\n",
    "        dataTittle = title.find_all(\"a\")[0].text\n",
    "        dataTittle = dataTittle.strip()\n",
    "        temp.append((dataTittle,0,0,0))\n",
    "    else:\n",
    "        dataTittle = title.find_all(\"a\")[0].text\n",
    "        dataTittle = dataTittle.strip()\n",
    "        dataRating = rating.find(\"strong\").text\n",
    "        dataRating = dataRating.strip()\n",
    "        condmet = sourceData.find_all(\"div\",attrs={\"class\":\"lister-item-content\"})[i]\n",
    "        condmetLength=(len(condmet.find_all(\"span\",attrs={\"class\":\"metascore favorable\"})))\n",
    "        dataVotes = rating.find_all(\"p\",attrs={\"class\":\"sort-num_votes-visible\"})[0].text\n",
    "        dataVotes = dataVotes.replace(\"\\n\",\"\")\n",
    "        dataVotes = dataVotes.replace(\"Votes:\",\"\")\n",
    "        dataVotes = dataVotes.replace(\"| Gross:$858.37M\",\"\")\n",
    "        dataVotes = dataVotes.replace(\"| Gross:$53.80M\",\"\")\n",
    "        dataVotes = dataVotes.replace(\",\",\".\")\n",
    "        if condmetLength == 0:                \n",
    "            temp.append((dataTittle,dataRating,0,dataVotes))\n",
    "        else :\n",
    "            temp.append(\n",
    "                (dataTittle,\n",
    "                 dataRating,\n",
    "                 condmet.find(\"span\",attrs={\"class\":\"metascore favorable\"}).text.strip(),dataVotes) \n",
    "            )\n",
    "temp"
   ]
  },
  {
   "cell_type": "markdown",
   "metadata": {},
   "source": [
    "## Creating data frame & Data wrangling"
   ]
  },
  {
   "cell_type": "markdown",
   "metadata": {},
   "source": [
    "Put the array into dataframe"
   ]
  },
  {
   "cell_type": "code",
   "execution_count": 25,
   "metadata": {
    "ExecuteTime": {
     "end_time": "2020-01-13T05:12:41.517372Z",
     "start_time": "2020-01-13T05:12:29.130015Z"
    }
   },
   "outputs": [
    {
     "data": {
      "text/plain": [
       "Rating        float64\n",
       "Meta Score    float64\n",
       "Votes         float64\n",
       "dtype: object"
      ]
     },
     "execution_count": 25,
     "metadata": {},
     "output_type": "execute_result"
    }
   ],
   "source": [
    "import pandas as pd\n",
    "\n",
    "dataIMDB = pd.DataFrame(temp)\n",
    "dataIMDB.columns=[\"Title\",\"Rating\",\"Meta Score\",\"Votes\"]\n",
    "\n",
    "dataIMDB[[\"Rating\",\"Meta Score\",\"Votes\"]]=dataIMDB[[\"Rating\",\"Meta Score\",\"Votes\"]].astype('float64')\n",
    "BestSevenMovies = dataIMDB.sort_values(by='Votes', ascending=False).head(7)\n",
    "BestSevenMovies = BestSevenMovies.set_index('Title')\n",
    "BestSevenMovies.dtypes"
   ]
  },
  {
   "cell_type": "markdown",
   "metadata": {},
   "source": [
    "Do the data cleaning here (please change this markdown with your explanation of what you do for data wrangling)"
   ]
  },
  {
   "cell_type": "markdown",
   "metadata": {
    "ExecuteTime": {
     "end_time": "2020-01-13T05:12:59.165559Z",
     "start_time": "2020-01-13T05:12:58.910012Z"
    }
   },
   "source": [
    "-  merubah tipe \"Rating\",\"Meta Score\",\"Votes\" dengan fload64\n",
    "- untuk kolom Title dijadikan index\n"
   ]
  },
  {
   "cell_type": "markdown",
   "metadata": {},
   "source": [
    "### Implementing your webscrapping to the flask dashboard\n",
    "\n",
    "- Copy paste all of your web scrapping process to the desired position on the `app.py`\n",
    "- Changing the title of the dasboard at `index.html`"
   ]
  },
  {
   "cell_type": "markdown",
   "metadata": {},
   "source": [
    "## Finishing This Notebook with Your Analysis and Conclusion\n",
    "\n",
    "First you can do start with making the data visualisation. "
   ]
  },
  {
   "cell_type": "code",
   "execution_count": 33,
   "metadata": {
    "ExecuteTime": {
     "end_time": "2020-01-13T05:20:56.208237Z",
     "start_time": "2020-01-13T05:20:56.076043Z"
    }
   },
   "outputs": [
    {
     "data": {
      "image/png": "[encoded data removed]",
      "text/plain": [
       "<Figure size 432x288 with 1 Axes>"
      ]
     },
     "metadata": {
      "needs_background": "light"
     },
     "output_type": "display_data"
    }
   ],
   "source": [
    "data = BestSevenMovies[[\"Meta Score\",\"Rating\"]].sort_values(\"Meta Score\").plot.barh(title='Best Meta Score 2019')\n",
    "\n",
    "\n"
   ]
  },
  {
   "cell_type": "markdown",
   "metadata": {},
   "source": [
    "\n",
    "(Put your analysis and conclusion here.)\n",
    "\n"
   ]
  },
  {
   "cell_type": "markdown",
   "metadata": {},
   "source": [
    "### Extra Challange\n",
    "\n",
    "This will be not included to the scoring. \n",
    "\n",
    "- You can create additional analysis from the data.\n",
    "- Implement it to the dashboard with at `app.py` dan `index.html`."
   ]
  }
 ],
 "metadata": {
  "kernelspec": {
   "display_name": "da-newton",
   "language": "python",
   "name": "da-newton"
  },
  "language_info": {
   "codemirror_mode": {
    "name": "ipython",
    "version": 3
   },
   "file_extension": ".py",
   "mimetype": "text/x-python",
   "name": "python",
   "nbconvert_exporter": "python",
   "pygments_lexer": "ipython3",
   "version": "3.8.5"
  }
 },
 "nbformat": 4,
 "nbformat_minor": 2
}
